{
 "cells": [
  {
   "cell_type": "markdown",
   "id": "aa60ee38-734c-4771-bf08-2b45198a6cbd",
   "metadata": {},
   "source": [
    "# Time Analysis in Python"
   ]
  },
  {
   "cell_type": "markdown",
   "id": "ee44fb4d-78d0-4c8c-80e2-7226ebc7f32d",
   "metadata": {},
   "source": [
    "## 1. Video:Introduction to Course"
   ]
  },
  {
   "cell_type": "markdown",
   "id": "08ebbffe-d4db-4671-b6d7-87cbc05dae53",
   "metadata": {},
   "source": [
    "Time series analysis refers to the examination of data arranged in a specific sequence over time. This subject holds significant importance in the financial domain. Time series are used in the analysis of various financial instruments such as stocks, bonds, commodities, and cryptocurrencies like Bitcoin. Time series models can be employed to fit these data to the models and make predictions for future values. These predictions play a crucial role in making financial decisions."
   ]
  },
  {
   "cell_type": "markdown",
   "id": "d6cc56a7-3fa0-4fe4-90dc-8526578e6aa7",
   "metadata": {},
   "source": [
    "### Video 1 Exercise 1 "
   ]
  },
  {
   "cell_type": "code",
   "execution_count": null,
   "id": "12df38ed-d976-4d51-87b2-eed82be338cb",
   "metadata": {},
   "outputs": [],
   "source": [
    "# Import pandas and plotting modules\n",
    "import pandas as pd\n",
    "import matplotlib.pyplot as plt\n",
    "\n",
    "# Convert the date index to datetime\n",
    "diet.index = pd.to_datetime(diet.index)"
   ]
  },
  {
   "cell_type": "markdown",
   "id": "eabe2496-4636-40b1-b760-6ff6f79d7659",
   "metadata": {},
   "source": [
    "### Video 1 Exercise 2"
   ]
  },
  {
   "cell_type": "code",
   "execution_count": null,
   "id": "24eb545c-cb58-4310-9dd4-37ed46358216",
   "metadata": {},
   "outputs": [],
   "source": [
    "# Import pandas\n",
    "import pandas as pd\n",
    "\n",
    "# Convert the stock index and bond index into sets\n",
    "set_stock_dates = set(stocks.index)\n",
    "set_bond_dates = set(bonds.index)\n",
    "\n",
    "# Take the difference between the sets and print\n",
    "print(set_stock_dates - set_bond_dates)\n",
    "\n",
    "# Merge stocks and bonds DataFrames using join()\n",
    "stocks_and_bonds = stocks.join(bonds,how='inner')"
   ]
  },
  {
   "cell_type": "markdown",
   "id": "ed0603a9-18db-4c6d-96e0-c0dd4c619767",
   "metadata": {},
   "source": [
    "## 2. Video: Corelation of Two Time Series"
   ]
  },
  {
   "cell_type": "markdown",
   "id": "1026adf9-1aa3-4db1-ad05-8c791232ae50",
   "metadata": {},
   "source": [
    "The correlation coefficient is a measure of how two series change together. This statistic is used to measure the relationship between two variables. A high correlation indicates that the two series are strongly linked, while a low correlation represents a weak relationship. The correlation coefficient typically takes a value between -1 and 1. A correlation approaching 1 signifies a positive relationship, while a correlation approaching -1 indicates a negative relationship. By calculating the correlation coefficient, information about the strength and direction of the relationship between two variables can be obtained.\n",
    "\n",
    "To better understand the correlation relationship, a scatter plot can be used. This graph is employed to visualize the relationship between two variables. Each data point represents a pair of values for the two variables, and when these points are scattered on the graph, they provide information about the nature of the relationship. If the data points approximately form a straight line, this may indicate a high positive correlation. However, if the data points are scattered randomly, it indicates a low or close-to-zero correlation."
   ]
  },
  {
   "cell_type": "markdown",
   "id": "5dd59c3b-f716-4356-bf65-a48e865ec6cc",
   "metadata": {},
   "source": [
    "### Video 2 Exercise 1"
   ]
  },
  {
   "cell_type": "code",
   "execution_count": null,
   "id": "b7d7172f-28cd-4a26-a734-d638e9302f66",
   "metadata": {},
   "outputs": [],
   "source": [
    "# Compute percent change using pct_change()\n",
    "returns = stocks_and_bonds.pct_change()\n",
    "\n",
    "# Compute correlation using corr()\n",
    "correlation = returns['SP500'].corr(returns['US10Y'])\n",
    "print(\"Correlation of stocks and interest rates: \", correlation)\n",
    "\n",
    "# Make scatter plot\n",
    "plt.scatter(returns['SP500'], returns['US10Y'])\n",
    "plt.show()"
   ]
  },
  {
   "cell_type": "markdown",
   "id": "1f242471-84c7-459c-83c3-86636dbfdcdc",
   "metadata": {},
   "source": [
    "### Video 2 Exercise 2"
   ]
  },
  {
   "cell_type": "code",
   "execution_count": null,
   "id": "f4904943-1377-43ed-8da0-ce63421343f0",
   "metadata": {},
   "outputs": [],
   "source": [
    "# Compute correlation of levels\n",
    "correlation1 = levels['DJI'].corr(levels['UFO'])\n",
    "print(\"Correlation of levels: \", correlation1)\n",
    "\n",
    "# Compute correlation of percent changes\n",
    "changes = levels.pct_change()\n",
    "correlation2 = changes['DJI'].corr(changes['UFO'])\n",
    "print(\"Correlation of changes: \", correlation2)"
   ]
  },
  {
   "cell_type": "markdown",
   "id": "a0061ed2-579e-4490-bae6-3f354760e9a6",
   "metadata": {},
   "source": [
    "## Video 3: Simple Linear Regression"
   ]
  },
  {
   "cell_type": "markdown",
   "id": "65984a3e-f16f-4cdb-908d-98c24c2ef262",
   "metadata": {},
   "source": [
    "In the narration of this video, Least Squares Regression (OLS) and R-squared (R²) are discussed.\n",
    "\n",
    "OLS is a regression analysis method, and its purpose is to model and predict the relationship between a dependent variable and one or more independent variables. OLS creates a regression equation that represents this relationship as a line or a plane. This equation represents the line or plane that best fits the data. The OLS method is used to minimize the errors between data points and the regression line to achieve this fit. These errors are expressed as the sum of the squares of the distances between data points and the line.\n",
    "\n",
    "R-squared, or determination coefficient, is a statistical measure that quantifies the explanatory power of a regression model. The R-squared value indicates how much of the variance in the dependent variable is explained by the independent variables. The R-squared value ranges from 0 to 1. A R-squared value close to 0 indicates that the regression model is weak in explaining the variance of the dependent variable, while a R-squared value close to 1 indicates that the model explains the variance of the dependent variable very well. In other words, the higher the R-squared value, the better the regression model is considered to be."
   ]
  },
  {
   "cell_type": "markdown",
   "id": "dc764b72-0d26-464b-8872-5cc37621b69d",
   "metadata": {},
   "source": [
    "### Video 3 Exercise 1"
   ]
  },
  {
   "cell_type": "code",
   "execution_count": null,
   "id": "3bd6f501-619b-4ea2-8b1d-bcad4d2d77a0",
   "metadata": {},
   "outputs": [],
   "source": [
    "# Import the statsmodels module\n",
    "import statsmodels.api as sm\n",
    "\n",
    "# Compute correlation of x and y\n",
    "correlation = x.corr(y)\n",
    "print(\"The correlation between x and y is %4.2f\" %(correlation))\n",
    "\n",
    "# Convert the Series x to a DataFrame and name the column x\n",
    "dfx = pd.DataFrame(x, columns=['x'])\n",
    "\n",
    "# Add a constant to the DataFrame dfx\n",
    "dfx1 = sm.add_constant(dfx)\n",
    "\n",
    "# Regress y on dfx1\n",
    "result = sm.OLS(y, dfx1).fit()\n",
    "\n",
    "# Print out the results and look at the relationship between R-squared and the correlation above\n",
    "print(result.summary())"
   ]
  },
  {
   "cell_type": "markdown",
   "id": "06d63098-ca16-4b74-ac63-ddd78ec9e724",
   "metadata": {},
   "source": [
    "## Video 4: Autocorrelation"
   ]
  },
  {
   "cell_type": "markdown",
   "id": "0a7ebef2-07fe-4b31-9e10-b12148d25178",
   "metadata": {},
   "source": [
    "This video has discussed autocorrelation in time series data. Autocorrelation refers to the correlation of a time series with its lagged values and is sometimes referred to as serial correlation. It indicates how related the series is to its past data. Specifically, a time series with positive autocorrelation indicates that past data helps in predicting future data, and such a series is considered to have a 'trend-following' characteristic.\n",
    "\n",
    "Positive autocorrelation is also of interest to investors. Especially in financial markets, a popular strategy is to buy stocks that have fallen in the past week and sell them when they appreciate in value. This strategy takes into account the effects of autocorrelation by considering past price movements. However, in financial markets, many factors come into play, so this strategy may not always work. Investors should carefully manage their risks and conduct a broader analysis when making investment decisions."
   ]
  },
  {
   "cell_type": "code",
   "execution_count": 5,
   "id": "aef2ecf7-e934-4d62-ac82-45c65e2f1085",
   "metadata": {},
   "outputs": [],
   "source": [
    "import pandas as pd\n",
    "\n",
    "MSFT = pd.read_csv('MSFT.csv')\n",
    "\n",
    "# Tarih sütununu datetime nesnelerine dönüştürme ve index olarak ayarlama\n",
    "MSFT['Date'] = pd.to_datetime(MSFT['Date'])\n",
    "MSFT.set_index('Date', inplace=True)\n"
   ]
  },
  {
   "cell_type": "markdown",
   "id": "f48356b0-6401-478d-8135-3bf847744fb5",
   "metadata": {},
   "source": [
    "### Video 4 Exercise 1"
   ]
  },
  {
   "cell_type": "code",
   "execution_count": 6,
   "id": "ee23e6b7-8056-483f-99f8-d77cf4c8d35c",
   "metadata": {},
   "outputs": [
    {
     "name": "stdout",
     "output_type": "stream",
     "text": [
      "The autocorrelation of weekly returns is -0.16\n"
     ]
    }
   ],
   "source": [
    "# Convert the daily data to weekly data\n",
    "MSFT = MSFT.resample(rule='W').last()\n",
    "\n",
    "# Compute the percentage change of prices\n",
    "returns = MSFT.pct_change()\n",
    "\n",
    "# Compute and print the autocorrelation of returns\n",
    "autocorrelation = returns['Adj Close'].autocorr()\n",
    "print(\"The autocorrelation of weekly returns is %4.2f\" %(autocorrelation))"
   ]
  },
  {
   "cell_type": "markdown",
   "id": "aa6e0049-f300-4861-8ed0-ece2d199a5ba",
   "metadata": {},
   "source": [
    "### Video 4 Exercise 2"
   ]
  },
  {
   "cell_type": "code",
   "execution_count": null,
   "id": "dbfe35ee-dacc-4ab6-a447-dc87947fff05",
   "metadata": {},
   "outputs": [],
   "source": [
    "# Compute the daily change in interest rates\n",
    "daily_diff = daily_rates.diff()\n",
    "\n",
    "# Compute and print the autocorrelation of daily changes\n",
    "autocorrelation_daily = daily_diff['US10Y'].autocorr()\n",
    "print(\"The autocorrelation of daily interest rate changes is %4.2f\" %(autocorrelation_daily))\n",
    "\n",
    "# Convert the daily data to annual data\n",
    "yearly_rates = daily_rates.resample(rule='A').last()\n",
    "\n",
    "# Repeat above for annual data\n",
    "yearly_diff = yearly_rates.diff()\n",
    "autocorrelation_yearly = yearly_diff['US10Y'].autocorr()\n",
    "print(\"The autocorrelation of annual interest rate changes is %4.2f\" %(autocorrelation_yearly))"
   ]
  },
  {
   "cell_type": "markdown",
   "id": "e0035f32-96bd-409c-b427-7e0793f2b0d5",
   "metadata": {},
   "source": [
    "## Video 5: Autocorrelation Function"
   ]
  },
  {
   "cell_type": "markdown",
   "id": "847ebc45-9737-4fd8-98d2-45c564906e56",
   "metadata": {},
   "source": [
    "This video focuses on visualizing the plot_acf function used to examine autocorrelation between 2 or more lagged values. Additionally, the importance of this visualization is emphasized in determining how far the autocorrelation extends in lag time and observing if there is a seasonal pattern in the lags."
   ]
  },
  {
   "cell_type": "code",
   "execution_count": null,
   "id": "2392d672-9a98-4188-88ae-1f7d2ccafa6b",
   "metadata": {},
   "outputs": [],
   "source": [
    "import pandas as pd\n",
    "\n",
    "HRB = pd.read_csv('HRB.csv')\n",
    "\n",
    "# Tarih sütununu datetime nesnelerine dönüştürme ve index olarak ayarlama\n",
    "HRB['Date'] = pd.to_datetime(HRB['Date'])\n",
    "HRB.set_index('Date', inplace=True)"
   ]
  },
  {
   "cell_type": "markdown",
   "id": "f3b0a19d-e40a-4d71-81d5-8263560f7d89",
   "metadata": {},
   "source": [
    "### Video 5 Exercise 1"
   ]
  },
  {
   "cell_type": "code",
   "execution_count": null,
   "id": "3c62a197-75d3-4c99-8c7d-4e55d36d686c",
   "metadata": {},
   "outputs": [],
   "source": [
    "# Import the acf module and the plot_acf module from statsmodels\n",
    "from statsmodels.tsa.stattools import acf\n",
    "from statsmodels.graphics.tsaplots import plot_acf\n",
    "\n",
    "# Compute the acf array of HRB\n",
    "acf_array = acf(HRB)\n",
    "print(acf_array)\n",
    "\n",
    "# Plot the acf function\n",
    "plot_acf(HRB,alpha=1)\n",
    "plt.show()"
   ]
  },
  {
   "cell_type": "markdown",
   "id": "eeb3587a-bca0-47b0-8378-c72e2baf247f",
   "metadata": {},
   "source": [
    "### Video 5 Exercise 2"
   ]
  },
  {
   "cell_type": "code",
   "execution_count": null,
   "id": "2bedf5f9-4756-4434-8b0f-afcb33340f00",
   "metadata": {},
   "outputs": [],
   "source": [
    "# Import the plot_acf module from statsmodels and sqrt from math\n",
    "from statsmodels.graphics.tsaplots import plot_acf\n",
    "from math import sqrt\n",
    "\n",
    "# Compute and print the autocorrelation of MSFT weekly returns\n",
    "autocorrelation = returns['Adj Close'].autocorr()\n",
    "print(\"The autocorrelation of weekly MSFT returns is %4.2f\" %(autocorrelation))\n",
    "\n",
    "# Find the number of observations by taking the length of the returns DataFrame\n",
    "nobs = len(returns)\n",
    "\n",
    "# Compute the approximate confidence interval\n",
    "conf = 1.96/sqrt(nobs)\n",
    "print(\"The approximate confidence interval is +/- %4.2f\" %(conf))\n",
    "\n",
    "# Plot the autocorrelation function with 95% confidence intervals and 20 lags using plot_acf\n",
    "plot_acf(returns, alpha=0.05, lags=20)\n",
    "plt.show()"
   ]
  },
  {
   "cell_type": "markdown",
   "id": "54a3e22e-65be-4d87-b2d2-3cbb1c6aea8d",
   "metadata": {},
   "source": [
    "## 6. Video: White Noise"
   ]
  },
  {
   "cell_type": "markdown",
   "id": "efb68720-8750-492c-a70b-486bc1511e28",
   "metadata": {},
   "source": [
    "White noise is a process that, statistically, exhibits a constant mean, constant variance over time, and zero autocorrelation among all time lags in a time series. If a time series conforms to a normal distribution and contains white noise, it is commonly referred to as 'Gaussian White Noise.' Financial data often exhibit the characteristics of white noise and are therefore frequently used in financial analyses."
   ]
  },
  {
   "cell_type": "markdown",
   "id": "b85eaa08-65ef-4614-8156-f23617f4dcc2",
   "metadata": {},
   "source": [
    "### Video 6 Exercise 1"
   ]
  },
  {
   "cell_type": "code",
   "execution_count": null,
   "id": "d1aa0064-3248-4d73-bd64-803dcf098b68",
   "metadata": {},
   "outputs": [],
   "source": [
    "# Import the plot_acf module from statsmodels\n",
    "from statsmodels.graphics.tsaplots import plot_acf\n",
    "\n",
    "# Simulate white noise returns\n",
    "returns = np.random.normal(loc=0.02, scale=0.05, size=1000)\n",
    "\n",
    "# Print out the mean and standard deviation of returns\n",
    "mean = np.mean(returns)\n",
    "std = np.std(returns)\n",
    "print(\"The mean is %5.3f and the standard deviation is %5.3f\" %(mean,std))\n",
    "\n",
    "# Plot returns series\n",
    "plt.plot(returns)\n",
    "plt.show()\n",
    "\n",
    "# Plot autocorrelation function of white noise returns\n",
    "plot_acf(returns, lags=20)\n",
    "plt.show()"
   ]
  },
  {
   "cell_type": "markdown",
   "id": "0ac7f4d7-fa2c-447d-b4bd-bcc717f91e34",
   "metadata": {},
   "source": [
    "## 7. Video: Random Walk"
   ]
  },
  {
   "cell_type": "markdown",
   "id": "344ad9dd-26af-4c6c-b7b3-60346b8d2158",
   "metadata": {},
   "source": [
    "In financial data, the 'random walk' hypothesis expresses the idea that price movements are random and unpredictable. According to this hypothesis, past price movements or data cannot be used to predict future price movements. In other words, prices move up or down randomly, and these movements are unpredictable. So, if there is a random walk in stock prices, we cannot use past data for predictions."
   ]
  },
  {
   "cell_type": "markdown",
   "id": "94c9a00f-c76f-4045-8d5f-f11437a46ff7",
   "metadata": {},
   "source": [
    "### Video 7 Exercise 1"
   ]
  },
  {
   "cell_type": "code",
   "execution_count": null,
   "id": "c45419c7-a5af-426c-98b7-c420ac2e9c1d",
   "metadata": {},
   "outputs": [],
   "source": [
    "# Generate 500 random steps with mean=0 and standard deviation=1\n",
    "steps = np.random.normal(loc=0, scale=1.0, size=500)\n",
    "\n",
    "# Set first element to 0 so that the first price will be the starting stock price\n",
    "steps[0]=0\n",
    "\n",
    "# Simulate stock prices, P with a starting price of 100\n",
    "P = 100 + np.cumsum(steps)\n",
    "\n",
    "# Plot the simulated stock prices\n",
    "plt.plot(P)\n",
    "plt.title(\"Simulated Random Walk\")\n",
    "plt.show()"
   ]
  },
  {
   "cell_type": "markdown",
   "id": "192de0d4-97f7-40f8-89af-11b7e68d9ce2",
   "metadata": {},
   "source": [
    "### Video 7 Exercise 2"
   ]
  },
  {
   "cell_type": "code",
   "execution_count": null,
   "id": "783662cc-68d3-4a74-8409-1ead72747c88",
   "metadata": {},
   "outputs": [],
   "source": [
    "# Generate 500 random steps \n",
    "steps = np.random.normal(loc=0.001, scale=0.01, size=500) + 1\n",
    "\n",
    "# Set first element to 1\n",
    "steps[0]=1\n",
    "\n",
    "# Simulate the stock price, P, by taking the cumulative product\n",
    "P = 100 * np.cumprod(steps)\n",
    "\n",
    "# Plot the simulated stock prices\n",
    "plt.plot(P)\n",
    "plt.title(\"Simulated Random Walk with Drift\")\n",
    "plt.show()"
   ]
  },
  {
   "cell_type": "markdown",
   "id": "4457a475-2ba5-468c-9bb7-514901bea28e",
   "metadata": {},
   "source": [
    "### Video 7 Exercise 3"
   ]
  },
  {
   "cell_type": "code",
   "execution_count": null,
   "id": "f7cbb11c-38bb-4e59-8f62-68638464c851",
   "metadata": {},
   "outputs": [],
   "source": [
    "# Import the adfuller module from statsmodels\n",
    "from statsmodels.tsa.stattools import adfuller\n",
    "\n",
    "# Run the ADF test on the price series and print out the results\n",
    "results = adfuller(AMZN['Adj Close'])\n",
    "print(results)\n",
    "\n",
    "# Just print out the p-value\n",
    "print('The p-value of the test on prices is: ' + str(results[1]))"
   ]
  },
  {
   "cell_type": "markdown",
   "id": "5e3ec91b-3686-4ac8-883b-ec4f9201782c",
   "metadata": {},
   "source": [
    "### Video 7 Exercise 4"
   ]
  },
  {
   "cell_type": "code",
   "execution_count": null,
   "id": "f75fb262-17c9-4230-a27f-0d8087b4f55d",
   "metadata": {},
   "outputs": [],
   "source": [
    "# Import the adfuller module from statsmodels\n",
    "from statsmodels.tsa.stattools import adfuller\n",
    "\n",
    "# Create a DataFrame of AMZN returns\n",
    "AMZN_ret = AMZN.pct_change()\n",
    "\n",
    "# Eliminate the NaN in the first row of returns\n",
    "AMZN_ret = AMZN_ret.dropna()\n",
    "\n",
    "# Run the ADF test on the return series and print out the p-value\n",
    "results = adfuller(AMZN_ret['Adj Close'])\n",
    "print('The p-value of the test on returns is: ' + str(results[1]))"
   ]
  },
  {
   "cell_type": "markdown",
   "id": "eadd2ebb-f07b-4142-a6d1-e73f5c6a9db9",
   "metadata": {},
   "source": [
    "### Video 7 Exercise 5"
   ]
  },
  {
   "cell_type": "code",
   "execution_count": null,
   "id": "1a4730dc-c630-444a-b1c1-a691aa55410b",
   "metadata": {},
   "outputs": [],
   "source": [
    "# Import the adfuller module from statsmodels\n",
    "from statsmodels.tsa.stattools import adfuller\n",
    "\n",
    "# Create a DataFrame of AMZN returns\n",
    "AMZN_ret = AMZN.pct_change()\n",
    "\n",
    "# Eliminate the NaN in the first row of returns\n",
    "AMZN_ret = AMZN_ret.dropna()\n",
    "\n",
    "# Run the ADF test on the return series and print out the p-value\n",
    "results = adfuller(AMZN_ret['Adj Close'])\n",
    "print('The p-value of the test on returns is: ' + str(results[1]))"
   ]
  },
  {
   "cell_type": "markdown",
   "id": "832cf5d0-61af-41b7-9023-d9d83c7abed9",
   "metadata": {},
   "source": [
    "## Video 8: Stationarity"
   ]
  },
  {
   "cell_type": "markdown",
   "id": "9afe28e9-fea3-4ede-8213-15cbdd173cdd",
   "metadata": {},
   "source": [
    "In financial data, 'stationarity' refers to a condition where the statistical properties of a time series do not change or remain constant over time. Stationarity is a critical concept in financial analysis and time series data modeling. A time series being stationary implies that its statistical characteristics remain stable over a specific period. This stability affects the reliable usability of historical data for predicting future price movements.\n",
    "\n",
    "Without the assumption of stationarity, analyzing and predicting financial time series becomes more complex. This is because in a non-stationary series, variations are observed at all time points, necessitating a large number of prediction parameters. For example, a random walk is a common example of non-stationary series. Similarly, seasonal series are often non-stationary.\n",
    "\n",
    "Therefore, when financial analysts and data scientists examine time series data, it is important to assess the stationarity status. Various methods, such as using lagged values or taking logarithms to eliminate effects like seasonality, can be employed to transform a non-stationary time series into a stationary one. A stationary time series enables more reliable predictions and yields more precise results in financial analysis"
   ]
  },
  {
   "cell_type": "markdown",
   "id": "7431096c-cffa-467d-826a-b0d1e1ef1264",
   "metadata": {},
   "source": [
    "### Video 8 Exercise 1"
   ]
  },
  {
   "cell_type": "code",
   "execution_count": null,
   "id": "0a1ee965-f898-46eb-8bb5-a49f37e5dc90",
   "metadata": {},
   "outputs": [],
   "source": [
    "# Import the plot_acf module from statsmodels\n",
    "from statsmodels.graphics.tsaplots import plot_acf\n",
    "\n",
    "# Seasonally adjust quarterly earnings\n",
    "HRBsa = HRB.diff(4)\n",
    "\n",
    "# Print the first 10 rows of the seasonally adjusted series\n",
    "print(HRBsa.head(10))\n",
    "\n",
    "# Drop the NaN data in the first four rows\n",
    "HRBsa = HRBsa.dropna()\n",
    "\n",
    "# Plot the autocorrelation function of the seasonally adjusted series\n",
    "plot_acf(HRBsa)\n",
    "plt.show()"
   ]
  },
  {
   "cell_type": "markdown",
   "id": "93bd7c16-86ad-499e-a350-6eb9471bfba9",
   "metadata": {},
   "source": [
    "## Video 9: Describe AR Model"
   ]
  },
  {
   "cell_type": "markdown",
   "id": "85c4c4b3-3c05-43bd-974f-edfc48257fd5",
   "metadata": {},
   "source": [
    "The AR (AutoRegressive) model is a model used in statistics to analyze and predict time series data. This model is widely used in the analysis of data over time, especially in fields such as finance, economics, and natural phenomena. Essentially, the AR(p) model is defined as follows:\n",
    "\n",
    "Y(t) = c + φ₁Y(t-1) + φ₂Y(t-2) + ... + φp*Y(t-p) + ε(t)\n",
    "\n",
    "Where:\n",
    "\n",
    "Y(t) represents the value at a specific time point in the time series.\n",
    "Y(t-1), Y(t-2), ... Y(t-p) represent the values at past time points.\n",
    "φ₁, φ₂, ... φp are the coefficients of the autoregressive terms, indicating how much past values influence future values.\n",
    "ε(t) is the error term, indicating how much the prediction can deviate from the actual value.\n",
    "c represents a constant term in the model.\n",
    "\n",
    "Here are the fundamental explanations of the AR model:\n",
    "\n",
    "What is AutoRegressive (AR)?\n",
    "\n",
    "The AR model attempts to predict future values using past values of a time series, hence it is called \"autoregressive.\"\n",
    "The AR(p) model focuses only on the last p periods of the time series and makes predictions using the past values within those periods.\n",
    "Parameters of the AR Model:\n",
    "\n",
    "The AR(p) model includes p lag terms, which represent past values of the time series.\n",
    "Another important parameter of the model is an error term ε (epsilon), which accounts for the errors in predictions and is used to assess the model's fitness.\n",
    "Model Selection:\n",
    "\n",
    "The choice of the p parameter for the AR model is a selection that requires an examination of the data and evaluation of the model's fitness. This is crucial for the model to make accurate predictions.\n",
    "Statistical criteria such as AIC (Akaike Information Criterion) or BIC (Bayesian Information Criterion) are commonly used to select the appropriate p value.\n",
    "Limitations of the AR Model:\n",
    "\n",
    "AR models can introduce uncertainties in future predictions because they rely on past data of the time series. Predicting sudden changes, in particular, can be challenging.\n",
    "AR models may not account for certain characteristics of time series data, such as trends or seasonal components. Therefore, more complex models like ARIMA (AutoRegressive Integrated Moving Average) models can be used.\n",
    "Importance of Time Series Data:\n",
    "\n",
    "AR models are a tool for examining and predicting time series data. However, the accuracy of the model can decrease, especially if time series data is noisy or statistically irregular.\n",
    "In conclusion, the AR model is a fundamental statistical model used in the analysis and prediction of time series data. However, like any model, it is important to understand the nature and characteristics of time series data and select appropriate parameters."
   ]
  },
  {
   "cell_type": "markdown",
   "id": "06001897-0b27-4295-88a6-595980f7d8e4",
   "metadata": {},
   "source": [
    "### Video 9 Exercise 1"
   ]
  },
  {
   "cell_type": "code",
   "execution_count": null,
   "id": "d1446842-0102-4735-954a-5427d4d1c46f",
   "metadata": {},
   "outputs": [],
   "source": [
    "# import the module for simulating data\n",
    "from statsmodels.tsa.arima_process import ArmaProcess\n",
    "\n",
    "# Plot 1: AR parameter = +0.9\n",
    "plt.subplot(2,1,1)\n",
    "ar1 = np.array([1, -0.9])\n",
    "ma1 = np.array([1])\n",
    "AR_object1 = ArmaProcess(ar1, ma1)\n",
    "simulated_data_1 = AR_object1.generate_sample(nsample=1000)\n",
    "plt.plot(simulated_data_1)\n",
    "\n",
    "# Plot 2: AR parameter = -0.9\n",
    "plt.subplot(2,1,2)\n",
    "ar2 = np.array([1, 0.9])\n",
    "ma2 = np.array([1])\n",
    "AR_object2 = ArmaProcess(ar2, ma2)\n",
    "simulated_data_2 = AR_object2.generate_sample(nsample=1000)\n",
    "plt.plot(simulated_data_2)\n",
    "plt.show()"
   ]
  },
  {
   "cell_type": "markdown",
   "id": "0ffa4ddc-103f-4086-9e3b-802c0ff55283",
   "metadata": {},
   "source": [
    "### Video 9 Exercise 2"
   ]
  },
  {
   "cell_type": "code",
   "execution_count": null,
   "id": "733d8a0c-d95e-4c01-975a-71b7724fc782",
   "metadata": {},
   "outputs": [],
   "source": [
    "# Import the plot_acf module from statsmodels\n",
    "from statsmodels.graphics.tsaplots import plot_acf\n",
    "\n",
    "# Plot 1: AR parameter = +0.9\n",
    "plot_acf(simulated_data_1, alpha=1, lags=20)\n",
    "plt.show()\n",
    "\n",
    "# Plot 2: AR parameter = -0.9\n",
    "plot_acf(simulated_data_2, alpha=1, lags=20)\n",
    "plt.show()\n",
    "\n",
    "# Plot 3: AR parameter = +0.3\n",
    "plot_acf(simulated_data_3, alpha=1, lags=20)\n",
    "plt.show()"
   ]
  },
  {
   "cell_type": "markdown",
   "id": "77d88069-5b6e-4a87-b77e-b7ccffa0a8da",
   "metadata": {},
   "source": [
    "## Video 10 : Estimating and Forecasting AR Model"
   ]
  },
  {
   "cell_type": "markdown",
   "id": "8028a730-3d70-44cf-bd16-c52e600ff494",
   "metadata": {
    "tags": []
   },
   "source": [
    "### Video 10 Exercise 1"
   ]
  },
  {
   "cell_type": "code",
   "execution_count": null,
   "id": "7626bbfe-7449-4813-b312-7045cea1f6fc",
   "metadata": {},
   "outputs": [],
   "source": [
    "# Import the ARIMA module from statsmodels\n",
    "from statsmodels.tsa.arima.model import ARIMA\n",
    "\n",
    "# Fit an AR(1) model to the first simulated data\n",
    "mod = ARIMA(simulated_data_1, order=(1,0,0))\n",
    "res = mod.fit()\n",
    "\n",
    "# Print out summary information on the fit\n",
    "print(res.summary())\n",
    "\n",
    "# Print out the estimate for phi\n",
    "print(\"When the true phi=0.9, the estimate of phi is:\")\n",
    "print(res.params[1])"
   ]
  },
  {
   "cell_type": "markdown",
   "id": "391dcf06-715b-4e45-a1e9-5bb52649a29b",
   "metadata": {},
   "source": [
    "### Video 10 Exercise 2"
   ]
  },
  {
   "cell_type": "code",
   "execution_count": null,
   "id": "46febb81-2289-4fa7-8fc0-ee9212eea998",
   "metadata": {},
   "outputs": [],
   "source": [
    "# Import the ARIMA and plot_predict from statsmodels\n",
    "from statsmodels.tsa.arima.model import ARIMA\n",
    "from statsmodels.graphics.tsaplots import plot_predict\n",
    "\n",
    "# Forecast the first AR(1) model\n",
    "mod = ARIMA(simulated_data_1, order=(1,0,0))\n",
    "res = mod.fit()\n",
    "\n",
    "# Plot the data and the forecast\n",
    "fig, ax = plt.subplots()\n",
    "simulated_data_1.loc[950:].plot(ax=ax)\n",
    "plot_predict(res, start=1000, end=1010, ax=ax)\n",
    "plt.show()"
   ]
  },
  {
   "cell_type": "markdown",
   "id": "e9fae35e-a03f-4d3d-a9fc-f2785b4b02ca",
   "metadata": {},
   "source": [
    "### Video 10 Exercise 3"
   ]
  },
  {
   "cell_type": "code",
   "execution_count": null,
   "id": "6e6fcb96-1c62-42d9-b6d4-6f57d9742681",
   "metadata": {},
   "outputs": [],
   "source": [
    "# Forecast interst rates using an AR(1) model\n",
    "mod = ARIMA(interest_rate_data, order=(1,0,0))\n",
    "res = mod.fit()\n",
    "\n",
    "# Plot the data and the forecast\n",
    "fig, ax = plt.subplots()\n",
    "interest_rate_data.plot(ax=ax)\n",
    "plot_predict(res, start=0, end='2027', alpha=None, ax=ax)\n",
    "plt.show()"
   ]
  },
  {
   "cell_type": "markdown",
   "id": "6d347a1b-6404-4352-b862-e34f0e32d101",
   "metadata": {},
   "source": [
    "### Video 10 Exercise 4"
   ]
  },
  {
   "cell_type": "code",
   "execution_count": null,
   "id": "98248b2f-8fa1-47a6-8064-d1c480e62d84",
   "metadata": {},
   "outputs": [],
   "source": [
    "# Import the plot_acf module from statsmodels\n",
    "from statsmodels.graphics.tsaplots import plot_acf\n",
    "\n",
    "# Plot the interest rate series and the simulated random walk series side-by-side\n",
    "fig, axes = plt.subplots(2,1)\n",
    "\n",
    "# Plot the autocorrelation of the interest rate series in the top plot\n",
    "fig = plot_acf(interest_rate_data, alpha=1, lags=12, ax=axes[0])\n",
    "\n",
    "# Plot the autocorrelation of the simulated random walk series in the bottom plot\n",
    "fig = plot_acf(simulated_data, alpha=1, lags=12, ax=axes[1])\n",
    "\n",
    "# Label axes\n",
    "axes[0].set_title(\"Interest Rate Data\")\n",
    "axes[1].set_title(\"Simulated Random Walk Data\")\n",
    "plt.show()"
   ]
  },
  {
   "cell_type": "markdown",
   "id": "67b330d9-c801-4c5a-a1ed-bbe082e77f27",
   "metadata": {},
   "source": [
    "## Video 11: Choosing the Right Model"
   ]
  },
  {
   "cell_type": "markdown",
   "id": "2b4efb8d-120b-4ee8-8da9-a1d9fc389614",
   "metadata": {},
   "source": [
    "When conducting time series analysis, selecting the correct Autoregressive (AR) model is crucial. Autoregressive models are used to predict future values of a time series based on its past values. To choose the right AR model, partial autocorrelation function (PACF) and information criteria are employed.\n",
    "\n",
    "Partial Autocorrelation Function (PACF):\n",
    "\n",
    "PACF is a graph or function that illustrates the relationships occurring within a specific time interval of time series data.\n",
    "PACF helps determine how many past values are associated with an AR model.\n",
    "The PACF graph shows how partial autocorrelation coefficients change with time lag.\n",
    "For model selection, sharp drops or the disappearance of significant correlations in the PACF graph can help determine the order of the AR model within a specific time range.\n",
    "\n",
    "Information Criteria:\n",
    "\n",
    "Information criteria are statistical measures that aid in comparing different AR models. The goal is to strike a balance between the model's complexity and its goodness of fit to the data.\n",
    "Two common information criteria are known as the Akaike Information Criterion (AIC) and the Bayesian Information Criterion (BIC). A lower AIC or BIC value indicates a better-fitting model.\n",
    "These criteria can be calculated for different AR models, and the model with the lowest criterion value is selected.\n",
    "The plot_acf function is a Python tool that helps plot the autocorrelation function (ACF) graph. This graph illustrates how autocorrelation varies with different time lags in a time series. The ACF graph can be used to determine potential AR model orders"
   ]
  },
  {
   "cell_type": "markdown",
   "id": "137b5c87-00fb-44a2-b768-79aba0586ef4",
   "metadata": {},
   "source": [
    "### Video 11 Exercise 1"
   ]
  },
  {
   "cell_type": "code",
   "execution_count": null,
   "id": "bed9954d-0031-4ec8-8282-0473e260916e",
   "metadata": {},
   "outputs": [],
   "source": [
    "# Import the modules for simulating data and for plotting the PACF\n",
    "from statsmodels.tsa.arima_process import ArmaProcess\n",
    "from statsmodels.graphics.tsaplots import plot_pacf\n",
    "\n",
    "# Simulate AR(1) with phi=+0.6\n",
    "ma = np.array([1])\n",
    "ar = np.array([1, -0.6])\n",
    "AR_object = ArmaProcess(ar, ma)\n",
    "simulated_data_1 = AR_object.generate_sample(nsample=5000)\n",
    "\n",
    "# Plot PACF for AR(1)\n",
    "plot_pacf(simulated_data_1, lags=20)\n",
    "plt.show()\n",
    "\n",
    "# Simulate AR(2) with phi1=+0.6, phi2=+0.3\n",
    "ma = np.array([1])\n",
    "ar = np.array([1, -0.6, -0.3])\n",
    "AR_object = ArmaProcess(ar, ma)\n",
    "simulated_data_2 = AR_object.generate_sample(nsample=5000)\n",
    "\n",
    "# Plot PACF for AR(2)\n",
    "plot_pacf(simulated_data_2, lags=20)\n",
    "plt.show()"
   ]
  },
  {
   "cell_type": "markdown",
   "id": "8665dc3b-68bc-4263-a12f-1282111b05f2",
   "metadata": {},
   "source": [
    "### Video 11 Exercise 2"
   ]
  },
  {
   "cell_type": "code",
   "execution_count": null,
   "id": "0566f581-0f71-4a6c-bbc9-26075ed51085",
   "metadata": {},
   "outputs": [],
   "source": [
    "# Import the module for estimating an ARIMA model\n",
    "from statsmodels.tsa.arima.model import ARIMA\n",
    "\n",
    "# Fit the data to an AR(p) for p = 0,...,6 , and save the BIC\n",
    "BIC = np.zeros(7)\n",
    "for p in range(7):\n",
    "    mod = ARIMA(simulated_data_2, order=(p,0,0))\n",
    "    res = mod.fit()\n",
    "# Save BIC for AR(p)    \n",
    "    BIC[p] = res.bic\n",
    "    \n",
    "# Plot the BIC as a function of p\n",
    "plt.plot(range(1,7), BIC[1:7], marker='o')\n",
    "plt.xlabel('Order of AR Model')\n",
    "plt.ylabel('Bayesian Information Criterion')\n",
    "plt.show()"
   ]
  },
  {
   "cell_type": "markdown",
   "id": "56f95e78-9137-4869-8a33-1367b42cc87a",
   "metadata": {},
   "source": [
    "## Video 12 : Describe Model"
   ]
  },
  {
   "cell_type": "markdown",
   "id": "b678e4c6-8ffc-4a5f-b945-d632b1ee5801",
   "metadata": {},
   "source": [
    "The MA (Moving Average) model is a type of model used in statistics to analyze and forecast time series data. The MA model focuses on predicting future values by taking the average of data points over a specific time period. Here are the key features of the MA model:\n",
    "\n",
    "Average Calculation: The MA model calculates the average of data points within a specific time interval (often consecutive time periods). These averages are used to predict future values.\n",
    "\n",
    "Lag: The MA model evaluates the relationships between time intervals or lags in the data. For example, a 3-lag MA model uses the averages of data points taken over three time periods.\n",
    "\n",
    "Repetitive Patterns: The MA model is useful for capturing repetitive periods or patterns in the data. Therefore, it is commonly used in the analysis of time series data with a specific pattern.\n",
    "\n",
    "Heteroskedasticity Correction: The MA model can help correct heteroskedasticity issues (varying variance over time) in time series data and improve the statistical properties of the data.\n",
    "\n",
    "MA(q) Model: The MA model is often expressed as \"MA(q),\" where \"q\" represents the degree of lag in the model. For example, an MA(2) model represents a 2-lag MA model.\n",
    "\n",
    "The MA model can be used in conjunction with the AR (Autoregressive) model to create ARMA (Autoregressive Moving Average) models. These models are used to better understand time series data and make more accurate predictions of future values"
   ]
  },
  {
   "cell_type": "markdown",
   "id": "dadda0bb-4d73-4e2f-8dde-31ba3e901d9c",
   "metadata": {},
   "source": [
    "### Video 12 Exercise 1"
   ]
  },
  {
   "cell_type": "code",
   "execution_count": null,
   "id": "01113a7b-eff5-454a-815e-1ba8ad46f43e",
   "metadata": {},
   "outputs": [],
   "source": [
    "# Import the plot_acf module from statsmodels\n",
    "from statsmodels.graphics.tsaplots import plot_acf\n",
    "\n",
    "# Plot 1: MA parameter = -0.9\n",
    "plot_acf(simulated_data_1, lags=20)\n",
    "plt.show()"
   ]
  },
  {
   "cell_type": "markdown",
   "id": "909a4f11-2988-42be-9cf1-887f4cb7b9d0",
   "metadata": {},
   "source": [
    "### Video 12 Exercise 2"
   ]
  },
  {
   "cell_type": "code",
   "execution_count": null,
   "id": "8da540e7-5c86-4dbb-b130-1adc35c4528c",
   "metadata": {},
   "outputs": [],
   "source": [
    "# Import the plot_acf module from statsmodels\n",
    "from statsmodels.graphics.tsaplots import plot_acf\n",
    "\n",
    "# Plot 1: MA parameter = -0.9\n",
    "plot_acf(simulated_data_1, lags=20)\n",
    "plt.show()"
   ]
  },
  {
   "cell_type": "markdown",
   "id": "cf1fa8d5-8782-4596-88bf-b89a94d591f9",
   "metadata": {},
   "source": [
    "## Video 13:Estimation and Forecasting an MA Model"
   ]
  },
  {
   "cell_type": "markdown",
   "id": "4349a70b-69c3-471e-b97a-6aceff2a4acd",
   "metadata": {},
   "source": [
    "### Video 13 Exercise 1"
   ]
  },
  {
   "cell_type": "code",
   "execution_count": null,
   "id": "ba7f10fd-29c9-4726-b443-783454fdcd3c",
   "metadata": {},
   "outputs": [],
   "source": [
    "# Import the ARIMA module from statsmodels\n",
    "from statsmodels.tsa.arima.model import ARIMA\n",
    "\n",
    "# Fit an MA(1) model to the first simulated data\n",
    "mod = ARIMA(simulated_data_1, order=(0,0,1))\n",
    "res = mod.fit()\n",
    "\n",
    "# Print out summary information on the fit\n",
    "print(res.summary())\n",
    "\n",
    "# Print out the estimate for the constant and for theta\n",
    "print(\"When the true theta=-0.9, the estimate of theta is:\")\n",
    "print(res.params[1])"
   ]
  },
  {
   "cell_type": "markdown",
   "id": "c94ea130-a833-4776-ab15-0aab29018362",
   "metadata": {},
   "source": [
    "### Video 13 Exercise 2"
   ]
  },
  {
   "cell_type": "code",
   "execution_count": null,
   "id": "80679bc9-e77e-410c-af74-1bc204f33fd2",
   "metadata": {},
   "outputs": [],
   "source": [
    "# Import the ARIMA and plot_predict from statsmodels\n",
    "from statsmodels.tsa.arima.model import ARIMA\n",
    "from statsmodels.graphics.tsaplots import plot_predict\n",
    "\n",
    "# Forecast the first MA(1) model\n",
    "mod = ARIMA(simulated_data_1, order=(0,0,1))\n",
    "res = mod.fit()\n",
    "\n",
    "# Plot the data and the forecast\n",
    "fig, ax = plt.subplots()\n",
    "simulated_data_1.loc[950:].plot(ax=ax)\n",
    "plot_predict(res, start=1000, end=1010, ax=ax)\n",
    "plt.show()"
   ]
  },
  {
   "cell_type": "markdown",
   "id": "c00b5139-2ac6-456c-a920-a16177a640be",
   "metadata": {},
   "source": [
    "### Video 14: ARMA Models"
   ]
  },
  {
   "cell_type": "markdown",
   "id": "3d4c8c81-4585-4e5e-9011-287ab2337807",
   "metadata": {},
   "source": [
    "ARMA (AutoRegressive Moving Average) model is a statistical model used to analyze time series data and make predictions about future values. This model provides a mathematical approach to using the previous values of a time series and error terms to forecast future values.\n",
    "\n",
    "The ARMA model consists of two fundamental components:\n",
    "\n",
    "AR (AutoRegressive) Component: This component predicts future values based on previous values of the time series. The AR component uses a weighted sum of past time steps' values. It is denoted as AR(p), where \"p\" represents the number of past time steps considered.\n",
    "\n",
    "MA (Moving Average) Component: This component makes predictions using previous error terms. The MA component employs a weighted sum of past error terms. It is denoted as MA(q), where \"q\" represents the number of past error terms considered.\n",
    "\n",
    "The ARMA model is expressed as a combination of these two components and is often denoted as ARMA(p, q), where \"p\" represents the order of the AR component, and \"q\" represents the order of the MA component.\n",
    "\n",
    "ARMA models are used to capture the statistical properties of time series data and make forecasts about future values. Data analysis and model fitting tests can be conducted to determine the optimal parameters for the model. ARMA models are widely used in fields such as economics, finance, meteorology, and various other areas for time series analysis."
   ]
  },
  {
   "cell_type": "markdown",
   "id": "77c887a4-b0c6-487c-a16b-51558d5e1be4",
   "metadata": {},
   "source": [
    "### Video 14 Exercise 1"
   ]
  },
  {
   "cell_type": "code",
   "execution_count": null,
   "id": "b2f3398d-88ba-4063-aef6-9f4cead27bd7",
   "metadata": {},
   "outputs": [],
   "source": [
    "# import datetime module\n",
    "import datetime\n",
    "\n",
    "# Change the first date to zero\n",
    "intraday.iloc[0,0] = 0\n",
    "\n",
    "# Change the column headers to 'DATE' and 'CLOSE'\n",
    "intraday.columns = ['DATE','CLOSE']\n",
    "\n",
    "# Examine the data types for each column\n",
    "print(intraday.dtypes)\n",
    "\n",
    "# Convert DATE column to numeric\n",
    "intraday['DATE'] = pd.to_numeric(intraday['DATE'])\n",
    "\n",
    "# Make the `DATE` column the new index\n",
    "intraday = intraday.set_index('DATE')"
   ]
  },
  {
   "cell_type": "markdown",
   "id": "7b7a209f-eea9-4325-8c63-2d692a51e46e",
   "metadata": {},
   "source": [
    "### Video 14 Exercise 2"
   ]
  },
  {
   "cell_type": "code",
   "execution_count": null,
   "id": "097495c1-3d91-4315-8d61-b33e52d2bba5",
   "metadata": {},
   "outputs": [],
   "source": [
    "# Notice that some rows are missing\n",
    "print(\"If there were no missing rows, there would be 391 rows of minute data\")\n",
    "print(\"The actual length of the DataFrame is:\", len(intraday))"
   ]
  },
  {
   "cell_type": "markdown",
   "id": "4cb4ae93-d00d-4094-965a-9bb59c80d115",
   "metadata": {},
   "source": [
    "### Video 14 Exercise 3"
   ]
  },
  {
   "cell_type": "code",
   "execution_count": null,
   "id": "10bdde4c-b723-4bb2-9b1c-f48aa696b81f",
   "metadata": {},
   "outputs": [],
   "source": [
    "# Import plot_acf and ARIMA modules from statsmodels\n",
    "from statsmodels.graphics.tsaplots import plot_acf\n",
    "from statsmodels.tsa.arima.model import ARIMA\n",
    "\n",
    "# Compute returns from prices\n",
    "returns = intraday.pct_change()\n",
    "returns = returns.dropna()\n",
    "\n",
    "# Plot ACF of returns with lags up to 60 minutes\n",
    "plot_acf(returns, lags=60)\n",
    "plt.show()\n",
    "\n",
    "# Fit the data to an MA(1) model\n",
    "mod = ARIMA(returns, order=(0,0,1))\n",
    "res = mod.fit()\n",
    "print(res.params[1])"
   ]
  },
  {
   "cell_type": "markdown",
   "id": "2580c57c-492e-445e-b343-cb428d528981",
   "metadata": {
    "tags": []
   },
   "source": [
    "### Video 14 Exercise 4"
   ]
  },
  {
   "cell_type": "code",
   "execution_count": null,
   "id": "d3b87dc9-3793-418b-bf0d-fbe93ed2027e",
   "metadata": {},
   "outputs": [],
   "source": [
    "# import the modules for simulating data and plotting the ACF\n",
    "from statsmodels.tsa.arima_process import ArmaProcess\n",
    "from statsmodels.graphics.tsaplots import plot_acf\n",
    "\n",
    "# Build a list MA parameters\n",
    "ma = [.8**i for i in range(30)]\n",
    "\n",
    "# Simulate the MA(30) model\n",
    "ar = np.array([1])\n",
    "AR_object = ArmaProcess(ar, ma)\n",
    "simulated_data = AR_object.generate_sample(nsample=5000)\n",
    "\n",
    "# Plot the ACF\n",
    "plot_acf(simulated_data, lags=30)\n",
    "plt.show()"
   ]
  },
  {
   "cell_type": "markdown",
   "id": "171d2636-4f91-418f-8973-661d858c8e24",
   "metadata": {},
   "source": [
    "## Video 15: Cointegration Models"
   ]
  },
  {
   "cell_type": "markdown",
   "id": "70eb3b21-8297-4281-9edc-a3c4d5ce2934",
   "metadata": {},
   "source": [
    "Cointegration analysis is a commonly used method to examine the relationship between time series data and predict future price movements. Essentially, cointegration signifies a relationship where two or more time series exhibit similar movements and influence each other. This analysis is considered an important tool for better understanding financial data and making more informed investment decisions.\n",
    "\n",
    "For example, this study aims to analyze the cointegrated relationship between Bitcoin and Ethereum."
   ]
  },
  {
   "cell_type": "markdown",
   "id": "c00fa0e5-39e4-4abb-9b9d-b40808f243e9",
   "metadata": {},
   "source": [
    "### Video 15 Exercise 1"
   ]
  },
  {
   "cell_type": "code",
   "execution_count": null,
   "id": "fbcc3a77-7340-4481-8e1f-fc656c36e35d",
   "metadata": {},
   "outputs": [],
   "source": [
    "# Plot the prices separately\n",
    "plt.subplot(2,1,1)\n",
    "plt.plot(7.25*HO, label='Heating Oil')\n",
    "plt.plot(NG, label='Natural Gas')\n",
    "plt.legend(loc='best', fontsize='small')\n",
    "\n",
    "# Plot the spread\n",
    "plt.subplot(2,1,2)\n",
    "plt.plot(7.25 *HO-NG, label='Spread')\n",
    "plt.legend(loc='best', fontsize='small')\n",
    "plt.axhline(y=0, linestyle='--', color='k')\n",
    "plt.show()"
   ]
  },
  {
   "cell_type": "markdown",
   "id": "b8e93195-bd21-4607-b321-440973284221",
   "metadata": {},
   "source": [
    "### Video 15 Exercise 2"
   ]
  },
  {
   "cell_type": "code",
   "execution_count": null,
   "id": "e762abcf-8502-4dd6-ac04-4e84ef9aecd6",
   "metadata": {},
   "outputs": [],
   "source": [
    "# Import the adfuller module from statsmodels\n",
    "from statsmodels.tsa.stattools import adfuller\n",
    "\n",
    "# Compute the ADF for HO and NG\n",
    "result_HO = adfuller(HO['Close'])\n",
    "print(\"The p-value for the ADF test on HO is \", result_HO[1])\n",
    "result_NG = adfuller(NG['Close'])\n",
    "print(\"The p-value for the ADF test on NG is \", result_NG[1])\n",
    "\n",
    "# Compute the ADF of the spread\n",
    "result_spread = adfuller(7.25 * HO['Close'] - NG['Close'])\n",
    "print(\"The p-value for the ADF test on the spread is \", result_spread[1])"
   ]
  },
  {
   "cell_type": "markdown",
   "id": "4fc7466c-f938-4028-971e-cfb5d729ecc8",
   "metadata": {},
   "source": [
    "### Video 15 Exercise 3"
   ]
  },
  {
   "cell_type": "code",
   "execution_count": null,
   "id": "81beadb8-3b5f-4169-95d9-546ea077632c",
   "metadata": {},
   "outputs": [],
   "source": [
    "# Import the statsmodels module for regression and the adfuller function\n",
    "import statsmodels.api as sm\n",
    "from statsmodels.tsa.stattools import adfuller\n",
    "\n",
    "# Regress BTC on ETH\n",
    "ETH = sm.add_constant(ETH)\n",
    "result = sm.OLS(BTC,ETH).fit()\n",
    "\n",
    "# Compute ADF\n",
    "b = result.params[1]\n",
    "adf_stats = adfuller(BTC['Price'] - b*ETH['Price'])\n",
    "print(\"The p-value for the ADF test is \", adf_stats[1])"
   ]
  },
  {
   "cell_type": "markdown",
   "id": "9fa0c8d7-b6c1-4ddd-aa1f-e537909688c2",
   "metadata": {},
   "source": [
    "## Video 16: Case Study"
   ]
  },
  {
   "cell_type": "markdown",
   "id": "cb333851-a55b-4c7a-8fcf-b3f36b0ba0b9",
   "metadata": {},
   "source": [
    "In the recent course, a case study was conducted involving the analysis of 150 years' worth of temperature data. Initially, an Augmented Dickey-Fuller (ADF) test was performed to determine whether the data exhibited a random walk pattern. Subsequently, first differences were taken to make the data stationary. Autocorrelation and partial autocorrelation functions were examined to analyze the temporal relationships within the data.\n",
    "\n",
    "Next, time series models including AutoRegressive (AR), Moving Average (MA), and AutoRegressive Moving Average (ARMA) were applied to the data. Information criteria were used to select the best-fitting model among various alternatives. Finally, using the chosen model, temperature forecasts for the upcoming 30 years were made.\n",
    "\n",
    "This study represents an important example of how statistical analyses can be employed to understand and predict future trends in temperature data."
   ]
  },
  {
   "cell_type": "markdown",
   "id": "b38f1286-4d9d-4465-8648-823483f11ca0",
   "metadata": {},
   "source": [
    "### Video 16 Exercise 1"
   ]
  },
  {
   "cell_type": "code",
   "execution_count": null,
   "id": "80195a3f-7c2c-4fa8-ba20-683db5dfaa6d",
   "metadata": {
    "jp-MarkdownHeadingCollapsed": true,
    "tags": []
   },
   "outputs": [],
   "source": [
    "# Import the adfuller function from the statsmodels module\n",
    "from statsmodels.tsa.stattools import adfuller\n",
    "\n",
    "# Convert the index to a datetime object\n",
    "temp_NY.index = pd.to_datetime(temp_NY.index, format='%Y')\n",
    "\n",
    "# Plot average temperatures\n",
    "temp_NY.plot()\n",
    "plt.show()\n",
    "\n",
    "# Compute and print ADF p-value\n",
    "result = adfuller(temp_NY['TAVG'])\n",
    "print(\"The p-value for the ADF test is \", result[1])"
   ]
  },
  {
   "cell_type": "markdown",
   "id": "976942ad-6cbc-422a-8587-6667394accf6",
   "metadata": {},
   "source": [
    "### Video 16 Exercise 2"
   ]
  },
  {
   "cell_type": "code",
   "execution_count": null,
   "id": "2228d131-8538-4258-a143-9e0a2be2a6b1",
   "metadata": {},
   "outputs": [],
   "source": [
    "# Import the modules for plotting the sample ACF and PACF\n",
    "from statsmodels.graphics.tsaplots import plot_acf, plot_pacf\n",
    "\n",
    "# Take first difference of the temperature Series\n",
    "chg_temp = temp_NY.diff()\n",
    "chg_temp = chg_temp.dropna()\n",
    "\n",
    "# Plot the ACF and PACF on the same page\n",
    "fig, axes = plt.subplots(2,1)\n",
    "\n",
    "# Plot the ACF\n",
    "plot_acf(chg_temp, lags=20, ax=axes[0])\n",
    "\n",
    "# Plot the PACF\n",
    "plot_pacf(chg_temp, lags=20, ax=axes[1])\n",
    "plt.show()"
   ]
  },
  {
   "cell_type": "markdown",
   "id": "08f038c6-6e1d-4dd7-97ea-0064f9c98087",
   "metadata": {},
   "source": [
    "### Video 16 Exercise 3"
   ]
  },
  {
   "cell_type": "code",
   "execution_count": null,
   "id": "e5bf0ff4-43f0-4015-bef4-210abadaf380",
   "metadata": {},
   "outputs": [],
   "source": [
    "# Import the module for estimating an ARIMA model\n",
    "from statsmodels.tsa.arima.model import ARIMA\n",
    "\n",
    "# Fit the data to an AR(1) model and print AIC:\n",
    "mod_ar1 = ARIMA(chg_temp, order=(1,0,0))\n",
    "res_ar1 = mod_ar1.fit()\n",
    "print(\"The AIC for an AR(1) is: \", res_ar1.aic)\n",
    "\n",
    "# Fit the data to an AR(2) model and print AIC:\n",
    "mod_ar2 = ARIMA(chg_temp, order=(2,0,0))\n",
    "res_ar2 = mod_ar2.fit()\n",
    "print(\"The AIC for an AR(2) is: \", res_ar2.aic)\n",
    "\n",
    "# Fit the data to an ARMA(1,1) model and print AIC:\n",
    "mod_arma11 = ARIMA(chg_temp, order=(1,0,1))\n",
    "res_arma11 = mod_arma11.fit()\n",
    "print(\"The AIC for an ARMA(1,1) is: \", res_arma11.aic)"
   ]
  },
  {
   "cell_type": "markdown",
   "id": "48ac2332-67a5-43f8-9ae2-a373d72836e9",
   "metadata": {},
   "source": [
    "### Video 16 Exercise 4"
   ]
  },
  {
   "cell_type": "code",
   "execution_count": null,
   "id": "07232103-dac0-4212-b5fe-e3bfc3dc5233",
   "metadata": {},
   "outputs": [],
   "source": [
    "# Import the ARIMA module from statsmodels\n",
    "from statsmodels.tsa.arima.model import ARIMA\n",
    "from statsmodels.graphics.tsaplots import plot_predict\n",
    "\n",
    "# Forecast temperatures using an ARIMA(1,1,1) model\n",
    "mod = ARIMA(temp_NY, trend='t', order=(1,1,1))\n",
    "res = mod.fit()\n",
    "\n",
    "# Plot the original series and the forecasted series\n",
    "fig, ax = plt.subplots()\n",
    "temp_NY.plot(ax=ax)\n",
    "plot_predict(res, start='1872', end='2046', ax=ax)\n",
    "plt.show()"
   ]
  }
 ],
 "metadata": {
  "kernelspec": {
   "display_name": "Python 3 (ipykernel)",
   "language": "python",
   "name": "python3"
  },
  "language_info": {
   "codemirror_mode": {
    "name": "ipython",
    "version": 3
   },
   "file_extension": ".py",
   "mimetype": "text/x-python",
   "name": "python",
   "nbconvert_exporter": "python",
   "pygments_lexer": "ipython3",
   "version": "3.9.13"
  }
 },
 "nbformat": 4,
 "nbformat_minor": 5
}
